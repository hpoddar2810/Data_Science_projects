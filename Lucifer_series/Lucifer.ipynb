{
  "nbformat": 4,
  "nbformat_minor": 0,
  "metadata": {
    "colab": {
      "name": "Lucifer.ipynb",
      "provenance": [],
      "authorship_tag": "ABX9TyPGkSfqxG//PqZ+g6hSl3bs",
      "include_colab_link": true
    },
    "kernelspec": {
      "name": "python3",
      "display_name": "Python 3"
    }
  },
  "cells": [
    {
      "cell_type": "markdown",
      "metadata": {
        "id": "view-in-github",
        "colab_type": "text"
      },
      "source": [
        "<a href=\"https://colab.research.google.com/github/hpoddar2810/Data_Science_projects/blob/master/Lucifer_series/Lucifer.ipynb\" target=\"_parent\"><img src=\"https://colab.research.google.com/assets/colab-badge.svg\" alt=\"Open In Colab\"/></a>"
      ]
    },
    {
      "cell_type": "code",
      "metadata": {
        "id": "pPMCWYAAVWvI",
        "colab": {
          "base_uri": "https://localhost:8080/",
          "height": 204
        },
        "outputId": "cb2893a6-e97c-4ae3-fcf0-92c752b349a1"
      },
      "source": [
        "from bs4 import BeautifulSoup as bts\n",
        "from requests import get\n",
        "import pandas as pd\n",
        "\n",
        "url = \"https://www.imdb.com/title/tt4052886/episodes?season=\"\n",
        "li = []\n",
        "\n",
        "for i in range(1,6):\n",
        "    response = get(url + str(i))\n",
        "\n",
        "    html_soup = bts(response.text, 'html.parser')\n",
        "\n",
        "    episodes_container = html_soup.find_all('div', class_=\"list_item\")\n",
        "\n",
        "    for epi, episodes in enumerate(episodes_container):\n",
        "        if i == 5 and epi > 7:\n",
        "          break\n",
        "        info = episodes.find('div', class_='info')\n",
        "        name = info.strong.a.text\n",
        "        date_ = info.find('div', class_='airdate').text\n",
        "        rating = info.find('span', class_='ipl-rating-star__rating').text\n",
        "        reviews = info.find('span', class_='ipl-rating-star__total-votes').text\n",
        "        \n",
        "        li.append([name, i, epi+1, date_, rating, reviews])\n",
        "\n",
        "data = pd.DataFrame(li, columns=['name', 'season', 'episode', 'date_of_release', 'ratings', 'reviews'])\n",
        "\n",
        "data.head()"
      ],
      "execution_count": null,
      "outputs": [
        {
          "output_type": "execute_result",
          "data": {
            "text/html": [
              "<div>\n",
              "<style scoped>\n",
              "    .dataframe tbody tr th:only-of-type {\n",
              "        vertical-align: middle;\n",
              "    }\n",
              "\n",
              "    .dataframe tbody tr th {\n",
              "        vertical-align: top;\n",
              "    }\n",
              "\n",
              "    .dataframe thead th {\n",
              "        text-align: right;\n",
              "    }\n",
              "</style>\n",
              "<table border=\"1\" class=\"dataframe\">\n",
              "  <thead>\n",
              "    <tr style=\"text-align: right;\">\n",
              "      <th></th>\n",
              "      <th>name</th>\n",
              "      <th>season</th>\n",
              "      <th>episode</th>\n",
              "      <th>date_of_release</th>\n",
              "      <th>ratings</th>\n",
              "      <th>reviews</th>\n",
              "    </tr>\n",
              "  </thead>\n",
              "  <tbody>\n",
              "    <tr>\n",
              "      <th>0</th>\n",
              "      <td>Pilot</td>\n",
              "      <td>1</td>\n",
              "      <td>1</td>\n",
              "      <td>\\n            1 Sep. 2017\\n</td>\n",
              "      <td>8.8</td>\n",
              "      <td>(7,730)</td>\n",
              "    </tr>\n",
              "    <tr>\n",
              "      <th>1</th>\n",
              "      <td>Lucifer, Stay. Good Devil.</td>\n",
              "      <td>1</td>\n",
              "      <td>2</td>\n",
              "      <td>\\n            1 Feb. 2016\\n</td>\n",
              "      <td>8.3</td>\n",
              "      <td>(5,175)</td>\n",
              "    </tr>\n",
              "    <tr>\n",
              "      <th>2</th>\n",
              "      <td>The Would-Be Prince of Darkness</td>\n",
              "      <td>1</td>\n",
              "      <td>3</td>\n",
              "      <td>\\n            8 Feb. 2016\\n</td>\n",
              "      <td>8.2</td>\n",
              "      <td>(4,649)</td>\n",
              "    </tr>\n",
              "    <tr>\n",
              "      <th>3</th>\n",
              "      <td>Manly Whatnots</td>\n",
              "      <td>1</td>\n",
              "      <td>4</td>\n",
              "      <td>\\n            15 Feb. 2016\\n</td>\n",
              "      <td>8.6</td>\n",
              "      <td>(4,569)</td>\n",
              "    </tr>\n",
              "    <tr>\n",
              "      <th>4</th>\n",
              "      <td>Sweet Kicks</td>\n",
              "      <td>1</td>\n",
              "      <td>5</td>\n",
              "      <td>\\n            22 Feb. 2016\\n</td>\n",
              "      <td>8.1</td>\n",
              "      <td>(4,169)</td>\n",
              "    </tr>\n",
              "  </tbody>\n",
              "</table>\n",
              "</div>"
            ],
            "text/plain": [
              "                              name  season  ...  ratings  reviews\n",
              "0                            Pilot       1  ...      8.8  (7,730)\n",
              "1       Lucifer, Stay. Good Devil.       1  ...      8.3  (5,175)\n",
              "2  The Would-Be Prince of Darkness       1  ...      8.2  (4,649)\n",
              "3                   Manly Whatnots       1  ...      8.6  (4,569)\n",
              "4                      Sweet Kicks       1  ...      8.1  (4,169)\n",
              "\n",
              "[5 rows x 6 columns]"
            ]
          },
          "metadata": {
            "tags": []
          },
          "execution_count": 34
        }
      ]
    },
    {
      "cell_type": "code",
      "metadata": {
        "id": "oRmGnbUvbQgu"
      },
      "source": [
        "def remove_end(date1):\n",
        "  return date1.strip()"
      ],
      "execution_count": null,
      "outputs": []
    },
    {
      "cell_type": "code",
      "metadata": {
        "id": "bjHmc84Sb9kg"
      },
      "source": [
        "data.date_of_release = data['date_of_release'].apply(remove_end)"
      ],
      "execution_count": null,
      "outputs": []
    },
    {
      "cell_type": "code",
      "metadata": {
        "id": "Typ0yvNdcH0O",
        "colab": {
          "base_uri": "https://localhost:8080/",
          "height": 204
        },
        "outputId": "e133d96a-7581-4e3a-f039-8ac7b1cea1db"
      },
      "source": [
        "data.head()"
      ],
      "execution_count": null,
      "outputs": [
        {
          "output_type": "execute_result",
          "data": {
            "text/html": [
              "<div>\n",
              "<style scoped>\n",
              "    .dataframe tbody tr th:only-of-type {\n",
              "        vertical-align: middle;\n",
              "    }\n",
              "\n",
              "    .dataframe tbody tr th {\n",
              "        vertical-align: top;\n",
              "    }\n",
              "\n",
              "    .dataframe thead th {\n",
              "        text-align: right;\n",
              "    }\n",
              "</style>\n",
              "<table border=\"1\" class=\"dataframe\">\n",
              "  <thead>\n",
              "    <tr style=\"text-align: right;\">\n",
              "      <th></th>\n",
              "      <th>name</th>\n",
              "      <th>season</th>\n",
              "      <th>episode</th>\n",
              "      <th>date_of_release</th>\n",
              "      <th>ratings</th>\n",
              "      <th>reviews</th>\n",
              "    </tr>\n",
              "  </thead>\n",
              "  <tbody>\n",
              "    <tr>\n",
              "      <th>0</th>\n",
              "      <td>Pilot</td>\n",
              "      <td>1</td>\n",
              "      <td>1</td>\n",
              "      <td>1 Sep. 2017</td>\n",
              "      <td>8.8</td>\n",
              "      <td>(7,730)</td>\n",
              "    </tr>\n",
              "    <tr>\n",
              "      <th>1</th>\n",
              "      <td>Lucifer, Stay. Good Devil.</td>\n",
              "      <td>1</td>\n",
              "      <td>2</td>\n",
              "      <td>1 Feb. 2016</td>\n",
              "      <td>8.3</td>\n",
              "      <td>(5,175)</td>\n",
              "    </tr>\n",
              "    <tr>\n",
              "      <th>2</th>\n",
              "      <td>The Would-Be Prince of Darkness</td>\n",
              "      <td>1</td>\n",
              "      <td>3</td>\n",
              "      <td>8 Feb. 2016</td>\n",
              "      <td>8.2</td>\n",
              "      <td>(4,649)</td>\n",
              "    </tr>\n",
              "    <tr>\n",
              "      <th>3</th>\n",
              "      <td>Manly Whatnots</td>\n",
              "      <td>1</td>\n",
              "      <td>4</td>\n",
              "      <td>15 Feb. 2016</td>\n",
              "      <td>8.6</td>\n",
              "      <td>(4,569)</td>\n",
              "    </tr>\n",
              "    <tr>\n",
              "      <th>4</th>\n",
              "      <td>Sweet Kicks</td>\n",
              "      <td>1</td>\n",
              "      <td>5</td>\n",
              "      <td>22 Feb. 2016</td>\n",
              "      <td>8.1</td>\n",
              "      <td>(4,169)</td>\n",
              "    </tr>\n",
              "  </tbody>\n",
              "</table>\n",
              "</div>"
            ],
            "text/plain": [
              "                              name  season  ...  ratings  reviews\n",
              "0                            Pilot       1  ...      8.8  (7,730)\n",
              "1       Lucifer, Stay. Good Devil.       1  ...      8.3  (5,175)\n",
              "2  The Would-Be Prince of Darkness       1  ...      8.2  (4,649)\n",
              "3                   Manly Whatnots       1  ...      8.6  (4,569)\n",
              "4                      Sweet Kicks       1  ...      8.1  (4,169)\n",
              "\n",
              "[5 rows x 6 columns]"
            ]
          },
          "metadata": {
            "tags": []
          },
          "execution_count": 37
        }
      ]
    },
    {
      "cell_type": "code",
      "metadata": {
        "id": "eJrbufi6cOOE"
      },
      "source": [
        "def remove_str(review):\n",
        "  li = [ (',', ''), ('(', ''), (')', '')]\n",
        "  for l in li:\n",
        "    review = review.replace(*l)\n",
        "  return review"
      ],
      "execution_count": null,
      "outputs": []
    },
    {
      "cell_type": "code",
      "metadata": {
        "id": "BlVv93YycvDo",
        "colab": {
          "base_uri": "https://localhost:8080/",
          "height": 204
        },
        "outputId": "b4024e01-73f4-4cc7-e38c-5dfbfd54c3d3"
      },
      "source": [
        "data.reviews = data['reviews'].apply(remove_str)\n",
        "data.head()"
      ],
      "execution_count": null,
      "outputs": [
        {
          "output_type": "execute_result",
          "data": {
            "text/html": [
              "<div>\n",
              "<style scoped>\n",
              "    .dataframe tbody tr th:only-of-type {\n",
              "        vertical-align: middle;\n",
              "    }\n",
              "\n",
              "    .dataframe tbody tr th {\n",
              "        vertical-align: top;\n",
              "    }\n",
              "\n",
              "    .dataframe thead th {\n",
              "        text-align: right;\n",
              "    }\n",
              "</style>\n",
              "<table border=\"1\" class=\"dataframe\">\n",
              "  <thead>\n",
              "    <tr style=\"text-align: right;\">\n",
              "      <th></th>\n",
              "      <th>name</th>\n",
              "      <th>season</th>\n",
              "      <th>episode</th>\n",
              "      <th>date_of_release</th>\n",
              "      <th>ratings</th>\n",
              "      <th>reviews</th>\n",
              "    </tr>\n",
              "  </thead>\n",
              "  <tbody>\n",
              "    <tr>\n",
              "      <th>0</th>\n",
              "      <td>Pilot</td>\n",
              "      <td>1</td>\n",
              "      <td>1</td>\n",
              "      <td>1 Sep. 2017</td>\n",
              "      <td>8.8</td>\n",
              "      <td>7730</td>\n",
              "    </tr>\n",
              "    <tr>\n",
              "      <th>1</th>\n",
              "      <td>Lucifer, Stay. Good Devil.</td>\n",
              "      <td>1</td>\n",
              "      <td>2</td>\n",
              "      <td>1 Feb. 2016</td>\n",
              "      <td>8.3</td>\n",
              "      <td>5175</td>\n",
              "    </tr>\n",
              "    <tr>\n",
              "      <th>2</th>\n",
              "      <td>The Would-Be Prince of Darkness</td>\n",
              "      <td>1</td>\n",
              "      <td>3</td>\n",
              "      <td>8 Feb. 2016</td>\n",
              "      <td>8.2</td>\n",
              "      <td>4649</td>\n",
              "    </tr>\n",
              "    <tr>\n",
              "      <th>3</th>\n",
              "      <td>Manly Whatnots</td>\n",
              "      <td>1</td>\n",
              "      <td>4</td>\n",
              "      <td>15 Feb. 2016</td>\n",
              "      <td>8.6</td>\n",
              "      <td>4569</td>\n",
              "    </tr>\n",
              "    <tr>\n",
              "      <th>4</th>\n",
              "      <td>Sweet Kicks</td>\n",
              "      <td>1</td>\n",
              "      <td>5</td>\n",
              "      <td>22 Feb. 2016</td>\n",
              "      <td>8.1</td>\n",
              "      <td>4169</td>\n",
              "    </tr>\n",
              "  </tbody>\n",
              "</table>\n",
              "</div>"
            ],
            "text/plain": [
              "                              name  season  ...  ratings reviews\n",
              "0                            Pilot       1  ...      8.8    7730\n",
              "1       Lucifer, Stay. Good Devil.       1  ...      8.3    5175\n",
              "2  The Would-Be Prince of Darkness       1  ...      8.2    4649\n",
              "3                   Manly Whatnots       1  ...      8.6    4569\n",
              "4                      Sweet Kicks       1  ...      8.1    4169\n",
              "\n",
              "[5 rows x 6 columns]"
            ]
          },
          "metadata": {
            "tags": []
          },
          "execution_count": 39
        }
      ]
    },
    {
      "cell_type": "code",
      "metadata": {
        "id": "VO8UTvaBc5Y4"
      },
      "source": [
        "data.date_of_release = pd.to_datetime(data.date_of_release)"
      ],
      "execution_count": null,
      "outputs": []
    },
    {
      "cell_type": "code",
      "metadata": {
        "id": "Kgk80geudzkZ",
        "colab": {
          "base_uri": "https://localhost:8080/",
          "height": 238
        },
        "outputId": "f19b98bd-d68f-4457-8a4a-9122c205f6d4"
      },
      "source": [
        "data.info()"
      ],
      "execution_count": null,
      "outputs": [
        {
          "output_type": "stream",
          "text": [
            "<class 'pandas.core.frame.DataFrame'>\n",
            "RangeIndex: 75 entries, 0 to 74\n",
            "Data columns (total 6 columns):\n",
            " #   Column           Non-Null Count  Dtype         \n",
            "---  ------           --------------  -----         \n",
            " 0   name             75 non-null     object        \n",
            " 1   season           75 non-null     int64         \n",
            " 2   episode          75 non-null     int64         \n",
            " 3   date_of_release  75 non-null     datetime64[ns]\n",
            " 4   ratings          75 non-null     object        \n",
            " 5   reviews          75 non-null     object        \n",
            "dtypes: datetime64[ns](1), int64(2), object(3)\n",
            "memory usage: 3.6+ KB\n"
          ],
          "name": "stdout"
        }
      ]
    },
    {
      "cell_type": "code",
      "metadata": {
        "id": "SVOwj5cid27Z",
        "colab": {
          "base_uri": "https://localhost:8080/",
          "height": 238
        },
        "outputId": "df03d98e-cb66-4d45-88e1-07be81bfb99d"
      },
      "source": [
        "data.ratings = data['ratings'].astype(float)\n",
        "data.reviews = data['reviews'].astype(int)\n",
        "data.info()"
      ],
      "execution_count": null,
      "outputs": [
        {
          "output_type": "stream",
          "text": [
            "<class 'pandas.core.frame.DataFrame'>\n",
            "RangeIndex: 75 entries, 0 to 74\n",
            "Data columns (total 6 columns):\n",
            " #   Column           Non-Null Count  Dtype         \n",
            "---  ------           --------------  -----         \n",
            " 0   name             75 non-null     object        \n",
            " 1   season           75 non-null     int64         \n",
            " 2   episode          75 non-null     int64         \n",
            " 3   date_of_release  75 non-null     datetime64[ns]\n",
            " 4   ratings          75 non-null     float64       \n",
            " 5   reviews          75 non-null     int64         \n",
            "dtypes: datetime64[ns](1), float64(1), int64(3), object(1)\n",
            "memory usage: 3.6+ KB\n"
          ],
          "name": "stdout"
        }
      ]
    },
    {
      "cell_type": "code",
      "metadata": {
        "id": "etVfXkIVeRd2",
        "colab": {
          "base_uri": "https://localhost:8080/",
          "height": 204
        },
        "outputId": "3ca75d94-4df8-466e-9fad-1042aed9cc18"
      },
      "source": [
        "data.head()"
      ],
      "execution_count": null,
      "outputs": [
        {
          "output_type": "execute_result",
          "data": {
            "text/html": [
              "<div>\n",
              "<style scoped>\n",
              "    .dataframe tbody tr th:only-of-type {\n",
              "        vertical-align: middle;\n",
              "    }\n",
              "\n",
              "    .dataframe tbody tr th {\n",
              "        vertical-align: top;\n",
              "    }\n",
              "\n",
              "    .dataframe thead th {\n",
              "        text-align: right;\n",
              "    }\n",
              "</style>\n",
              "<table border=\"1\" class=\"dataframe\">\n",
              "  <thead>\n",
              "    <tr style=\"text-align: right;\">\n",
              "      <th></th>\n",
              "      <th>name</th>\n",
              "      <th>season</th>\n",
              "      <th>episode</th>\n",
              "      <th>date_of_release</th>\n",
              "      <th>ratings</th>\n",
              "      <th>reviews</th>\n",
              "    </tr>\n",
              "  </thead>\n",
              "  <tbody>\n",
              "    <tr>\n",
              "      <th>0</th>\n",
              "      <td>Pilot</td>\n",
              "      <td>1</td>\n",
              "      <td>1</td>\n",
              "      <td>2017-09-01</td>\n",
              "      <td>8.8</td>\n",
              "      <td>7730</td>\n",
              "    </tr>\n",
              "    <tr>\n",
              "      <th>1</th>\n",
              "      <td>Lucifer, Stay. Good Devil.</td>\n",
              "      <td>1</td>\n",
              "      <td>2</td>\n",
              "      <td>2016-02-01</td>\n",
              "      <td>8.3</td>\n",
              "      <td>5175</td>\n",
              "    </tr>\n",
              "    <tr>\n",
              "      <th>2</th>\n",
              "      <td>The Would-Be Prince of Darkness</td>\n",
              "      <td>1</td>\n",
              "      <td>3</td>\n",
              "      <td>2016-02-08</td>\n",
              "      <td>8.2</td>\n",
              "      <td>4649</td>\n",
              "    </tr>\n",
              "    <tr>\n",
              "      <th>3</th>\n",
              "      <td>Manly Whatnots</td>\n",
              "      <td>1</td>\n",
              "      <td>4</td>\n",
              "      <td>2016-02-15</td>\n",
              "      <td>8.6</td>\n",
              "      <td>4569</td>\n",
              "    </tr>\n",
              "    <tr>\n",
              "      <th>4</th>\n",
              "      <td>Sweet Kicks</td>\n",
              "      <td>1</td>\n",
              "      <td>5</td>\n",
              "      <td>2016-02-22</td>\n",
              "      <td>8.1</td>\n",
              "      <td>4169</td>\n",
              "    </tr>\n",
              "  </tbody>\n",
              "</table>\n",
              "</div>"
            ],
            "text/plain": [
              "                              name  season  ...  ratings reviews\n",
              "0                            Pilot       1  ...      8.8    7730\n",
              "1       Lucifer, Stay. Good Devil.       1  ...      8.3    5175\n",
              "2  The Would-Be Prince of Darkness       1  ...      8.2    4649\n",
              "3                   Manly Whatnots       1  ...      8.6    4569\n",
              "4                      Sweet Kicks       1  ...      8.1    4169\n",
              "\n",
              "[5 rows x 6 columns]"
            ]
          },
          "metadata": {
            "tags": []
          },
          "execution_count": 43
        }
      ]
    },
    {
      "cell_type": "code",
      "metadata": {
        "id": "1BB-n4MmeT0x"
      },
      "source": [
        "#data.to_csv(\"lucifer_episodes_ratings.csv\", index=False)"
      ],
      "execution_count": null,
      "outputs": []
    },
    {
      "cell_type": "code",
      "metadata": {
        "id": "DDmcXoZneppl"
      },
      "source": [
        "epi_count = data.groupby(['season']).episode.count()\n",
        "seasonwise = data.groupby(['season'])"
      ],
      "execution_count": null,
      "outputs": []
    },
    {
      "cell_type": "code",
      "metadata": {
        "id": "hvDwUWIhXIXD"
      },
      "source": [
        "max_rating = seasonwise.ratings.max()\n",
        "min_rating = seasonwise.ratings.min()\n",
        "avg_rating = seasonwise.ratings.mean() \n",
        "max_id = seasonwise.ratings.idxmax()\n",
        "min_id = seasonwise.ratings.idxmin()"
      ],
      "execution_count": null,
      "outputs": []
    },
    {
      "cell_type": "code",
      "metadata": {
        "id": "FOELf2UMbmDT"
      },
      "source": [
        "import matplotlib.pyplot as plt\n",
        "import numpy as np\n",
        "from matplotlib.patches import Ellipse\n",
        "import seaborn as sns\n",
        "%matplotlib inline\n"
      ],
      "execution_count": null,
      "outputs": []
    },
    {
      "cell_type": "code",
      "metadata": {
        "id": "gKbs6rRyjhE6"
      },
      "source": [
        "sns.set_style(\"darkgrid\")"
      ],
      "execution_count": null,
      "outputs": []
    },
    {
      "cell_type": "code",
      "metadata": {
        "id": "IoEcpw7cbWLz",
        "colab": {
          "base_uri": "https://localhost:8080/",
          "height": 369
        },
        "outputId": "80625f2a-caf1-4740-e32d-10d99b289b20"
      },
      "source": [
        "plt.figure(figsize=(10,5))\n",
        "label = np.arange(1,6)\n",
        "width = 0.2\n",
        "bar1 = plt.bar(label-width, min_rating, width=width, color='#f53905', label='Minimum')\n",
        "bar2 = plt.bar(label, avg_rating, width=width, color='#004de6', label='Average')\n",
        "bar3 = plt.bar(label+width, max_rating, width=width, color='#18f005', label='Maximun')\n",
        "ax = plt.gca()\n",
        "# x0, y0 = ax.transAxes.transform((0, 0)) # lower left in pixels\n",
        "# x1, y1 = ax.transAxes.transform((1, 1)) # upper right in pixes\n",
        "# dx = x1 - x0\n",
        "# dy = y1 - y0\n",
        "# maxd = max(dx, dy)\n",
        "# width = .14 * maxd / dx\n",
        "# height = .21 * maxd / dy\n",
        "# for i in range(1,6):\n",
        "#   ci = Ellipse((i-width-0.065,min_rating[i]+.16), width, height, color='k', fill=False, label='episode')\n",
        "#   ci1 = Ellipse((i+width+0.065,max_rating[i]+.18), width, height, color='k', fill=False)\n",
        "#   ax.add_artist(ci)\n",
        "#   ax.add_artist(ci1)\n",
        "def filltext(bars, ind):\n",
        "  for i, bar in enumerate(bars):\n",
        "    height = bar.get_height()\n",
        "    plt.text(bar.get_x() + bar.get_width()/2.0, height, '%d' % int(ind[i]), ha='center', va='bottom')\n",
        "\n",
        "min_rating_epi = data.loc[min_id, 'episode'].reset_index(drop=True)\n",
        "max_rating_epi = data.loc[max_id, 'episode'].reset_index(drop=True)\n",
        "\n",
        "filltext(bar1, min_rating_epi)\n",
        "filltext(bar3, max_rating_epi)\n",
        "plt.xlabel('Season', fontsize=12)\n",
        "plt.ylabel('Rating',fontsize=12)\n",
        "plt.legend(bbox_to_anchor=(1.001, 1), loc='upper left', fontsize=11, borderpad=0.75)\n",
        "plt.tight_layout()\n",
        "plt.show()"
      ],
      "execution_count": null,
      "outputs": [
        {
          "output_type": "display_data",
          "data": {
            "image/png": "[encoded data removed]",
            "text/plain": [
              "<Figure size 720x360 with 1 Axes>"
            ]
          },
          "metadata": {
            "tags": []
          }
        }
      ]
    },
    {
      "cell_type": "code",
      "metadata": {
        "id": "EabviPSLwO4R",
        "colab": {
          "base_uri": "https://localhost:8080/",
          "height": 235
        },
        "outputId": "4b0a68fd-8abe-43a4-e9c2-c3535909f7ca"
      },
      "source": [
        "data1 = data[['season','episode', 'ratings']]\n",
        "data1.set_index(['season', 'episode'], inplace=True)\n",
        "data1.head()"
      ],
      "execution_count": null,
      "outputs": [
        {
          "output_type": "execute_result",
          "data": {
            "text/html": [
              "<div>\n",
              "<style scoped>\n",
              "    .dataframe tbody tr th:only-of-type {\n",
              "        vertical-align: middle;\n",
              "    }\n",
              "\n",
              "    .dataframe tbody tr th {\n",
              "        vertical-align: top;\n",
              "    }\n",
              "\n",
              "    .dataframe thead th {\n",
              "        text-align: right;\n",
              "    }\n",
              "</style>\n",
              "<table border=\"1\" class=\"dataframe\">\n",
              "  <thead>\n",
              "    <tr style=\"text-align: right;\">\n",
              "      <th></th>\n",
              "      <th></th>\n",
              "      <th>ratings</th>\n",
              "    </tr>\n",
              "    <tr>\n",
              "      <th>season</th>\n",
              "      <th>episode</th>\n",
              "      <th></th>\n",
              "    </tr>\n",
              "  </thead>\n",
              "  <tbody>\n",
              "    <tr>\n",
              "      <th rowspan=\"5\" valign=\"top\">1</th>\n",
              "      <th>1</th>\n",
              "      <td>8.8</td>\n",
              "    </tr>\n",
              "    <tr>\n",
              "      <th>2</th>\n",
              "      <td>8.3</td>\n",
              "    </tr>\n",
              "    <tr>\n",
              "      <th>3</th>\n",
              "      <td>8.2</td>\n",
              "    </tr>\n",
              "    <tr>\n",
              "      <th>4</th>\n",
              "      <td>8.6</td>\n",
              "    </tr>\n",
              "    <tr>\n",
              "      <th>5</th>\n",
              "      <td>8.1</td>\n",
              "    </tr>\n",
              "  </tbody>\n",
              "</table>\n",
              "</div>"
            ],
            "text/plain": [
              "                ratings\n",
              "season episode         \n",
              "1      1            8.8\n",
              "       2            8.3\n",
              "       3            8.2\n",
              "       4            8.6\n",
              "       5            8.1"
            ]
          },
          "metadata": {
            "tags": []
          },
          "execution_count": 53
        }
      ]
    },
    {
      "cell_type": "code",
      "metadata": {
        "id": "0VJqWIiC2w19",
        "colab": {
          "base_uri": "https://localhost:8080/",
          "height": 266
        },
        "outputId": "3b501615-31e3-491f-e57c-8640ad6f292e"
      },
      "source": [
        "data1.unstack()"
      ],
      "execution_count": null,
      "outputs": [
        {
          "output_type": "execute_result",
          "data": {
            "text/html": [
              "<div>\n",
              "<style scoped>\n",
              "    .dataframe tbody tr th:only-of-type {\n",
              "        vertical-align: middle;\n",
              "    }\n",
              "\n",
              "    .dataframe tbody tr th {\n",
              "        vertical-align: top;\n",
              "    }\n",
              "\n",
              "    .dataframe thead tr th {\n",
              "        text-align: left;\n",
              "    }\n",
              "\n",
              "    .dataframe thead tr:last-of-type th {\n",
              "        text-align: right;\n",
              "    }\n",
              "</style>\n",
              "<table border=\"1\" class=\"dataframe\">\n",
              "  <thead>\n",
              "    <tr>\n",
              "      <th></th>\n",
              "      <th colspan=\"26\" halign=\"left\">ratings</th>\n",
              "    </tr>\n",
              "    <tr>\n",
              "      <th>episode</th>\n",
              "      <th>1</th>\n",
              "      <th>2</th>\n",
              "      <th>3</th>\n",
              "      <th>4</th>\n",
              "      <th>5</th>\n",
              "      <th>6</th>\n",
              "      <th>7</th>\n",
              "      <th>8</th>\n",
              "      <th>9</th>\n",
              "      <th>10</th>\n",
              "      <th>11</th>\n",
              "      <th>12</th>\n",
              "      <th>13</th>\n",
              "      <th>14</th>\n",
              "      <th>15</th>\n",
              "      <th>16</th>\n",
              "      <th>17</th>\n",
              "      <th>18</th>\n",
              "      <th>19</th>\n",
              "      <th>20</th>\n",
              "      <th>21</th>\n",
              "      <th>22</th>\n",
              "      <th>23</th>\n",
              "      <th>24</th>\n",
              "      <th>25</th>\n",
              "      <th>26</th>\n",
              "    </tr>\n",
              "    <tr>\n",
              "      <th>season</th>\n",
              "      <th></th>\n",
              "      <th></th>\n",
              "      <th></th>\n",
              "      <th></th>\n",
              "      <th></th>\n",
              "      <th></th>\n",
              "      <th></th>\n",
              "      <th></th>\n",
              "      <th></th>\n",
              "      <th></th>\n",
              "      <th></th>\n",
              "      <th></th>\n",
              "      <th></th>\n",
              "      <th></th>\n",
              "      <th></th>\n",
              "      <th></th>\n",
              "      <th></th>\n",
              "      <th></th>\n",
              "      <th></th>\n",
              "      <th></th>\n",
              "      <th></th>\n",
              "      <th></th>\n",
              "      <th></th>\n",
              "      <th></th>\n",
              "      <th></th>\n",
              "      <th></th>\n",
              "    </tr>\n",
              "  </thead>\n",
              "  <tbody>\n",
              "    <tr>\n",
              "      <th>1</th>\n",
              "      <td>8.8</td>\n",
              "      <td>8.3</td>\n",
              "      <td>8.2</td>\n",
              "      <td>8.6</td>\n",
              "      <td>8.1</td>\n",
              "      <td>8.9</td>\n",
              "      <td>8.7</td>\n",
              "      <td>8.4</td>\n",
              "      <td>9.1</td>\n",
              "      <td>8.5</td>\n",
              "      <td>8.8</td>\n",
              "      <td>9.1</td>\n",
              "      <td>9.2</td>\n",
              "      <td>NaN</td>\n",
              "      <td>NaN</td>\n",
              "      <td>NaN</td>\n",
              "      <td>NaN</td>\n",
              "      <td>NaN</td>\n",
              "      <td>NaN</td>\n",
              "      <td>NaN</td>\n",
              "      <td>NaN</td>\n",
              "      <td>NaN</td>\n",
              "      <td>NaN</td>\n",
              "      <td>NaN</td>\n",
              "      <td>NaN</td>\n",
              "      <td>NaN</td>\n",
              "    </tr>\n",
              "    <tr>\n",
              "      <th>2</th>\n",
              "      <td>8.5</td>\n",
              "      <td>8.6</td>\n",
              "      <td>8.2</td>\n",
              "      <td>8.6</td>\n",
              "      <td>8.9</td>\n",
              "      <td>9.2</td>\n",
              "      <td>8.9</td>\n",
              "      <td>8.8</td>\n",
              "      <td>8.9</td>\n",
              "      <td>9.2</td>\n",
              "      <td>8.8</td>\n",
              "      <td>9.1</td>\n",
              "      <td>9.5</td>\n",
              "      <td>8.4</td>\n",
              "      <td>8.3</td>\n",
              "      <td>9.0</td>\n",
              "      <td>8.6</td>\n",
              "      <td>9.2</td>\n",
              "      <td>NaN</td>\n",
              "      <td>NaN</td>\n",
              "      <td>NaN</td>\n",
              "      <td>NaN</td>\n",
              "      <td>NaN</td>\n",
              "      <td>NaN</td>\n",
              "      <td>NaN</td>\n",
              "      <td>NaN</td>\n",
              "    </tr>\n",
              "    <tr>\n",
              "      <th>3</th>\n",
              "      <td>8.7</td>\n",
              "      <td>8.2</td>\n",
              "      <td>8.6</td>\n",
              "      <td>8.2</td>\n",
              "      <td>8.4</td>\n",
              "      <td>8.9</td>\n",
              "      <td>9.3</td>\n",
              "      <td>8.2</td>\n",
              "      <td>8.7</td>\n",
              "      <td>9.1</td>\n",
              "      <td>8.5</td>\n",
              "      <td>8.4</td>\n",
              "      <td>8.9</td>\n",
              "      <td>8.3</td>\n",
              "      <td>8.3</td>\n",
              "      <td>8.4</td>\n",
              "      <td>8.4</td>\n",
              "      <td>8.4</td>\n",
              "      <td>8.5</td>\n",
              "      <td>9.1</td>\n",
              "      <td>8.1</td>\n",
              "      <td>8.2</td>\n",
              "      <td>9.5</td>\n",
              "      <td>9.8</td>\n",
              "      <td>8.0</td>\n",
              "      <td>8.0</td>\n",
              "    </tr>\n",
              "    <tr>\n",
              "      <th>4</th>\n",
              "      <td>9.2</td>\n",
              "      <td>9.2</td>\n",
              "      <td>9.3</td>\n",
              "      <td>9.2</td>\n",
              "      <td>9.2</td>\n",
              "      <td>9.2</td>\n",
              "      <td>9.4</td>\n",
              "      <td>9.3</td>\n",
              "      <td>9.6</td>\n",
              "      <td>9.7</td>\n",
              "      <td>NaN</td>\n",
              "      <td>NaN</td>\n",
              "      <td>NaN</td>\n",
              "      <td>NaN</td>\n",
              "      <td>NaN</td>\n",
              "      <td>NaN</td>\n",
              "      <td>NaN</td>\n",
              "      <td>NaN</td>\n",
              "      <td>NaN</td>\n",
              "      <td>NaN</td>\n",
              "      <td>NaN</td>\n",
              "      <td>NaN</td>\n",
              "      <td>NaN</td>\n",
              "      <td>NaN</td>\n",
              "      <td>NaN</td>\n",
              "      <td>NaN</td>\n",
              "    </tr>\n",
              "    <tr>\n",
              "      <th>5</th>\n",
              "      <td>8.4</td>\n",
              "      <td>8.8</td>\n",
              "      <td>8.9</td>\n",
              "      <td>7.1</td>\n",
              "      <td>9.2</td>\n",
              "      <td>9.2</td>\n",
              "      <td>9.4</td>\n",
              "      <td>9.6</td>\n",
              "      <td>NaN</td>\n",
              "      <td>NaN</td>\n",
              "      <td>NaN</td>\n",
              "      <td>NaN</td>\n",
              "      <td>NaN</td>\n",
              "      <td>NaN</td>\n",
              "      <td>NaN</td>\n",
              "      <td>NaN</td>\n",
              "      <td>NaN</td>\n",
              "      <td>NaN</td>\n",
              "      <td>NaN</td>\n",
              "      <td>NaN</td>\n",
              "      <td>NaN</td>\n",
              "      <td>NaN</td>\n",
              "      <td>NaN</td>\n",
              "      <td>NaN</td>\n",
              "      <td>NaN</td>\n",
              "      <td>NaN</td>\n",
              "    </tr>\n",
              "  </tbody>\n",
              "</table>\n",
              "</div>"
            ],
            "text/plain": [
              "        ratings                           ...                              \n",
              "episode      1    2    3    4    5    6   ...   21   22   23   24   25   26\n",
              "season                                    ...                              \n",
              "1           8.8  8.3  8.2  8.6  8.1  8.9  ...  NaN  NaN  NaN  NaN  NaN  NaN\n",
              "2           8.5  8.6  8.2  8.6  8.9  9.2  ...  NaN  NaN  NaN  NaN  NaN  NaN\n",
              "3           8.7  8.2  8.6  8.2  8.4  8.9  ...  8.1  8.2  9.5  9.8  8.0  8.0\n",
              "4           9.2  9.2  9.3  9.2  9.2  9.2  ...  NaN  NaN  NaN  NaN  NaN  NaN\n",
              "5           8.4  8.8  8.9  7.1  9.2  9.2  ...  NaN  NaN  NaN  NaN  NaN  NaN\n",
              "\n",
              "[5 rows x 26 columns]"
            ]
          },
          "metadata": {
            "tags": []
          },
          "execution_count": 54
        }
      ]
    },
    {
      "cell_type": "code",
      "metadata": {
        "id": "bVbvlWQa5QUS"
      },
      "source": [
        "reviews = seasonwise.reviews.mean()"
      ],
      "execution_count": null,
      "outputs": []
    },
    {
      "cell_type": "code",
      "metadata": {
        "id": "mtLH464855T1",
        "colab": {
          "base_uri": "https://localhost:8080/",
          "height": 293
        },
        "outputId": "3a677985-a2a6-4286-efc2-5262d9be5489"
      },
      "source": [
        "reviews.plot.bar()"
      ],
      "execution_count": null,
      "outputs": [
        {
          "output_type": "execute_result",
          "data": {
            "text/plain": [
              "<matplotlib.axes._subplots.AxesSubplot at 0x7fc430245e48>"
            ]
          },
          "metadata": {
            "tags": []
          },
          "execution_count": 57
        },
        {
          "output_type": "display_data",
          "data": {
            "image/png": "[encoded data removed]",
            "text/plain": [
              "<Figure size 432x288 with 1 Axes>"
            ]
          },
          "metadata": {
            "tags": []
          }
        }
      ]
    },
    {
      "cell_type": "code",
      "metadata": {
        "id": "qWeg-vwM57na",
        "colab": {
          "base_uri": "https://localhost:8080/",
          "height": 293
        },
        "outputId": "69fbadc9-5ba9-47ee-b189-d633129929aa"
      },
      "source": [
        "avg_rating.plot.bar()"
      ],
      "execution_count": null,
      "outputs": [
        {
          "output_type": "execute_result",
          "data": {
            "text/plain": [
              "<matplotlib.axes._subplots.AxesSubplot at 0x7fc430200cc0>"
            ]
          },
          "metadata": {
            "tags": []
          },
          "execution_count": 58
        },
        {
          "output_type": "display_data",
          "data": {
            "image/png": "[encoded data removed]",
            "text/plain": [
              "<Figure size 432x288 with 1 Axes>"
            ]
          },
          "metadata": {
            "tags": []
          }
        }
      ]
    },
    {
      "cell_type": "code",
      "metadata": {
        "id": "iXVdmxnM6Nje",
        "colab": {
          "base_uri": "https://localhost:8080/",
          "height": 282
        },
        "outputId": "663818e3-a01f-4697-e651-dcacd6b7a2bc"
      },
      "source": [
        "season1 = data.loc[data.season == 1,:]\n",
        "season1.plot(y='ratings', x='episode', kind='barh')"
      ],
      "execution_count": null,
      "outputs": [
        {
          "output_type": "execute_result",
          "data": {
            "text/plain": [
              "<matplotlib.axes._subplots.AxesSubplot at 0x7fc4301bfc50>"
            ]
          },
          "metadata": {
            "tags": []
          },
          "execution_count": 59
        },
        {
          "output_type": "display_data",
          "data": {
            "image/png": "[encoded data removed]",
            "text/plain": [
              "<Figure size 432x288 with 1 Axes>"
            ]
          },
          "metadata": {
            "tags": []
          }
        }
      ]
    },
    {
      "cell_type": "code",
      "metadata": {
        "id": "s49fgEBA74Ew",
        "colab": {
          "base_uri": "https://localhost:8080/",
          "height": 607
        },
        "outputId": "0217d27f-9899-49d6-b340-63872bfbadc3"
      },
      "source": [
        "plt.figure(figsize=(12,10))\n",
        "for i in range(1,6):\n",
        "  plt.subplot(2, 3, i)\n",
        "  seasoni = data.loc[data.season==i, :]\n",
        "  seasoni.plot(x='episode', y='ratings', kind='barh', ax=plt.gca())\n",
        "  plt.title('Season'+str(i))\n"
      ],
      "execution_count": null,
      "outputs": [
        {
          "output_type": "display_data",
          "data": {
            "image/png": "[encoded data removed]",
            "text/plain": [
              "<Figure size 864x720 with 5 Axes>"
            ]
          },
          "metadata": {
            "tags": []
          }
        }
      ]
    },
    {
      "cell_type": "markdown",
      "metadata": {
        "id": "bFSMaAabWe8F"
      },
      "source": [
        "* Season 1 : First the ratings getting decreases and in middle two episode's ratings instanly increases may be due to some story twist and at ends it start getting increase\n",
        "* Season 2: It's randomly fluctuating in a small range. So pattern appears.\n",
        "* Season 3: it is also pretty much same across the season but some episodes have a huge jump.\n",
        "* Season 4: it is just increasing little bit with every episode.\n",
        "* Season 5: increaseing a little bit everytime with one huge drop in middle."
      ]
    },
    {
      "cell_type": "markdown",
      "metadata": {
        "id": "mm11PQXOcYww"
      },
      "source": [
        "# now lets see if no. of reviews can expliain anything."
      ]
    },
    {
      "cell_type": "code",
      "metadata": {
        "id": "fZynjW8uSGDY",
        "colab": {
          "base_uri": "https://localhost:8080/",
          "height": 607
        },
        "outputId": "6a98fa3c-0788-416f-d952-5e9ea47e210d"
      },
      "source": [
        "plt.figure(figsize=(12,10))\n",
        "cor = []\n",
        "for i in range(1,6):\n",
        "  plt.subplot(2, 3, i)\n",
        "  seasoni = data.loc[data.season==i, :]\n",
        "  corrr = seasoni['ratings'].corr(seasoni['reviews'])\n",
        "  cor.append(corrr)\n",
        "  seasoni.plot(x='episode', y='reviews', kind='barh', ax=plt.gca())\n",
        "  plt.title('Season'+str(i))"
      ],
      "execution_count": null,
      "outputs": [
        {
          "output_type": "display_data",
          "data": {
            "image/png": "[encoded data removed]",
            "text/plain": [
              "<Figure size 864x720 with 5 Axes>"
            ]
          },
          "metadata": {
            "tags": []
          }
        }
      ]
    },
    {
      "cell_type": "markdown",
      "metadata": {
        "id": "hdptGhjydTkC"
      },
      "source": [
        "Reviews are fluctuating a lot.\n",
        "* Season 1: 1st episode have approx. 60% more reviews than any other episode of the same season. Means many viewers stoped watching after first episode.[5000-3000]\n",
        "* Season 2: slitely decreasing with episode with one exception.[ 2800 - 3800]\n",
        "* Season 3: pretty much same as season 3 with one exception. [3000-4000]\n",
        "* Season 4: slitly decresing than increasing and final episode exceptionly high. [5000-5800]\n",
        "* Sesaon 5: decreasing contineously.[1300-1800] . The reason for low range becuase its very new."
      ]
    },
    {
      "cell_type": "code",
      "metadata": {
        "id": "BFH-B0OJhOd4"
      },
      "source": [
        ""
      ],
      "execution_count": null,
      "outputs": []
    }
  ]
}